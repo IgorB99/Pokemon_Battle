{
  "nbformat": 4,
  "nbformat_minor": 0,
  "metadata": {
    "colab": {
      "name": "Pokemon_Colab_Color.ipynb",
      "provenance": [],
      "authorship_tag": "ABX9TyNftTXE70Xh/5k2rssRZ28c",
      "include_colab_link": true
    },
    "kernelspec": {
      "name": "python3",
      "display_name": "Python 3"
    }
  },
  "cells": [
    {
      "cell_type": "markdown",
      "metadata": {
        "id": "view-in-github",
        "colab_type": "text"
      },
      "source": [
        "<a href=\"https://colab.research.google.com/github/IgorB99/Pokemon_Battle/blob/master/Pokemon_Colab_Color.ipynb\" target=\"_parent\"><img src=\"https://colab.research.google.com/assets/colab-badge.svg\" alt=\"Open In Colab\"/></a>"
      ]
    },
    {
      "cell_type": "code",
      "metadata": {
        "id": "OHRU04ha3_gh",
        "colab_type": "code",
        "colab": {}
      },
      "source": [
        "class Pokemon():\n",
        "  def __init__(self, name, hp, attack, defense, special_attack, special_defense, speed):\n",
        "    self.name = name\n",
        "    self.hp = hp\n",
        "    self.attack = attack\n",
        "    self.defense = defense\n",
        "    self.special_attack = special_attack\n",
        "    self.special_defense = special_defense\n",
        "    self.speed = speed\n",
        "\n",
        "  def show_data(self):\n",
        "    print('name:{}, hp: {}, attack:{}, defense:{}, special_attack:{}, special_defense:{}, speed:{}'.format( \\\n",
        "    self.name, self.hp, self.attack, self.defense, self.special_attack, self.special_defense, self.speed))"
      ],
      "execution_count": 13,
      "outputs": []
    },
    {
      "cell_type": "code",
      "metadata": {
        "id": "ar33Oe2Cta9L",
        "colab_type": "code",
        "colab": {
          "base_uri": "https://localhost:8080/",
          "height": 299
        },
        "outputId": "8ae36f81-e356-4804-bbf5-2c853527b839"
      },
      "source": [
        "import requests\n",
        "\n",
        "base_api_url = 'https://pokeapi.co/api/v2/pokemon?limit=151'\n",
        "dados_brutos = requests.get(base_api_url)\n",
        "\n",
        "def quem_e_esse_pokemon(pokemon):\n",
        "  if dados_brutos.status_code >= 200 and dados_brutos.status_code < 300:\n",
        "    for informacao in dados_brutos.json()[\"results\"]:\n",
        "      if informacao[\"name\"] == pokemon:\n",
        "        dados_brutos_pokemon = requests.get(informacao[\"url\"])\n",
        "        if dados_brutos_pokemon.status_code >= 200 and dados_brutos_pokemon.status_code < 300:\n",
        "          pokemon_data = dados_brutos_pokemon.json()\n",
        "          pokemon = Pokemon(name = pokemon_data[\"name\"],\n",
        "                            hp = pokemon_data[\"stats\"][0][\"base_stat\"],\n",
        "                            attack = pokemon_data[\"stats\"][1][\"base_stat\"],\n",
        "                            defense = pokemon_data[\"stats\"][2][\"base_stat\"],\n",
        "                            special_attack = pokemon_data[\"stats\"][3][\"base_stat\"],\n",
        "                            special_defense = pokemon_data[\"stats\"][4][\"base_stat\"],\n",
        "                            speed = pokemon_data[\"stats\"][5][\"base_stat\"])\n",
        "  return pokemon\n",
        "\n",
        "pokemon1 = input(\"digite o nome de um pokemon: \")\n",
        "pokemon2 = input(\"digite o nome de um pokemon: \")\n",
        "\n",
        "pokemon1 = quem_e_esse_pokemon(pokemon1)\n",
        "pokemon2 = quem_e_esse_pokemon(pokemon2)\n",
        "\n",
        "while pokemon1.hp > 0 or pokemon2.hp > 0:\n",
        "  pokemon1_action = input(pokemon1.name + \" use (attack/special_attack): \")\n",
        "  pokemon2_action = input(pokemon2.name + \" use (attack/special_attack): \")\n",
        "\n",
        "  if pokemon1.speed > pokemon2.speed:\n",
        "    pokemon2.hp -= pokemon1.pokemon1_action\n",
        "  else:\n",
        "    pokemon1.hp -= pokemon2.pokemon2_action\n",
        "\n",
        "if pokemon1.hp > pokemon2.hp:\n",
        "  print(pokemon1.name + \" win\")\n",
        "else:\n",
        "  print(pokemon2.name + \" win\")"
      ],
      "execution_count": 44,
      "outputs": [
        {
          "output_type": "stream",
          "text": [
            "digite o nome de um pokemon: mew\n",
            "digite o nome de um pokemon: mewtwo\n",
            "mew use (attack/special_attack): attack\n",
            "mewtwo use (attack/special_attack): attack\n"
          ],
          "name": "stdout"
        },
        {
          "output_type": "error",
          "ename": "AttributeError",
          "evalue": "ignored",
          "traceback": [
            "\u001b[0;31m---------------------------------------------------------------------------\u001b[0m",
            "\u001b[0;31mAttributeError\u001b[0m                            Traceback (most recent call last)",
            "\u001b[0;32m<ipython-input-44-d93f3af00ace>\u001b[0m in \u001b[0;36m<module>\u001b[0;34m()\u001b[0m\n\u001b[1;32m     33\u001b[0m     \u001b[0mpokemon2\u001b[0m\u001b[0;34m.\u001b[0m\u001b[0mhp\u001b[0m \u001b[0;34m-=\u001b[0m \u001b[0mpokemon1\u001b[0m\u001b[0;34m.\u001b[0m\u001b[0mpokemon1_action\u001b[0m\u001b[0;34m\u001b[0m\u001b[0;34m\u001b[0m\u001b[0m\n\u001b[1;32m     34\u001b[0m   \u001b[0;32melse\u001b[0m\u001b[0;34m:\u001b[0m\u001b[0;34m\u001b[0m\u001b[0;34m\u001b[0m\u001b[0m\n\u001b[0;32m---> 35\u001b[0;31m     \u001b[0mpokemon1\u001b[0m\u001b[0;34m.\u001b[0m\u001b[0mhp\u001b[0m \u001b[0;34m-=\u001b[0m \u001b[0mpokemon2\u001b[0m\u001b[0;34m.\u001b[0m\u001b[0mpokemon2_action\u001b[0m\u001b[0;34m\u001b[0m\u001b[0;34m\u001b[0m\u001b[0m\n\u001b[0m\u001b[1;32m     36\u001b[0m \u001b[0;34m\u001b[0m\u001b[0m\n\u001b[1;32m     37\u001b[0m \u001b[0;32mif\u001b[0m \u001b[0mpokemon1\u001b[0m\u001b[0;34m.\u001b[0m\u001b[0mhp\u001b[0m \u001b[0;34m>\u001b[0m \u001b[0mpokemon2\u001b[0m\u001b[0;34m.\u001b[0m\u001b[0mhp\u001b[0m\u001b[0;34m:\u001b[0m\u001b[0;34m\u001b[0m\u001b[0;34m\u001b[0m\u001b[0m\n",
            "\u001b[0;31mAttributeError\u001b[0m: 'Pokemon' object has no attribute 'pokemon2_action'"
          ]
        }
      ]
    }
  ]
}