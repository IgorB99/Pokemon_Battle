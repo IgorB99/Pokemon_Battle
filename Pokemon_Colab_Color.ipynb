{
  "nbformat": 4,
  "nbformat_minor": 0,
  "metadata": {
    "colab": {
      "name": "Pokemon_Colab_Color.ipynb",
      "provenance": [],
      "authorship_tag": "ABX9TyNr6N8TAbLW8mR7Y3ksaLYz",
      "include_colab_link": true
    },
    "kernelspec": {
      "name": "python3",
      "display_name": "Python 3"
    }
  },
  "cells": [
    {
      "cell_type": "markdown",
      "metadata": {
        "id": "view-in-github",
        "colab_type": "text"
      },
      "source": [
        "<a href=\"https://colab.research.google.com/github/IgorB99/Pokemon_Battle/blob/master/Pokemon_Colab_Color.ipynb\" target=\"_parent\"><img src=\"https://colab.research.google.com/assets/colab-badge.svg\" alt=\"Open In Colab\"/></a>"
      ]
    },
    {
      "cell_type": "code",
      "metadata": {
        "id": "OHRU04ha3_gh",
        "colab_type": "code",
        "colab": {}
      },
      "source": [
        "class Pokemon():\n",
        "  def __init__(self, name, hp, attack, defense, special_attack, special_defense, speed):\n",
        "    self.name = name\n",
        "    self.hp = hp\n",
        "    self.attack = attack\n",
        "    self.defense = defense\n",
        "    self.special_attack = special_attack\n",
        "    self.special_defense = special_defense\n",
        "    self.speed = speed\n"
      ],
      "execution_count": 48,
      "outputs": []
    },
    {
      "cell_type": "code",
      "metadata": {
        "id": "ar33Oe2Cta9L",
        "colab_type": "code",
        "colab": {
          "base_uri": "https://localhost:8080/",
          "height": 272
        },
        "outputId": "df7bade4-196c-40a5-e32f-cdbaafd76e12"
      },
      "source": [
        "import requests\n",
        "\n",
        "base_api_url = 'https://pokeapi.co/api/v2/pokemon?limit=151'\n",
        "dados_brutos = requests.get(base_api_url)\n",
        "\n",
        "def quem_e_esse_pokemon(pokemon):\n",
        "  if dados_brutos.status_code >= 200 and dados_brutos.status_code < 300:\n",
        "    for informacao in dados_brutos.json()[\"results\"]:\n",
        "      if informacao[\"name\"] == pokemon:\n",
        "        dados_brutos_pokemon = requests.get(informacao[\"url\"])\n",
        "        if dados_brutos_pokemon.status_code >= 200 and dados_brutos_pokemon.status_code < 300:\n",
        "          pokemon_data = dados_brutos_pokemon.json()\n",
        "          pokemon = Pokemon(name = pokemon_data[\"name\"],\n",
        "                            hp = pokemon_data[\"stats\"][0][\"base_stat\"],\n",
        "                            attack = pokemon_data[\"stats\"][1][\"base_stat\"],\n",
        "                            defense = pokemon_data[\"stats\"][2][\"base_stat\"],\n",
        "                            special_attack = pokemon_data[\"stats\"][3][\"base_stat\"],\n",
        "                            special_defense = pokemon_data[\"stats\"][4][\"base_stat\"],\n",
        "                            speed = pokemon_data[\"stats\"][5][\"base_stat\"])\n",
        "  return pokemon\n",
        "\n",
        "def pokemon_acao(acao, n):\n",
        "  if n == 1:\n",
        "    if acao == 1:\n",
        "      dano = ((pokemon1.attack * 2) / pokemon2.defense) * 10\n",
        "    else:\n",
        "      dano = ((pokemon1.special_attack * 2) / pokemon2.special_defense) * 10\n",
        "  else:\n",
        "    if acao == 1:\n",
        "      dano = ((pokemon2.attack * 2) / pokemon1.defense) * 10\n",
        "    else:\n",
        "      dano = ((pokemon2.special_attack * 2) / pokemon1.special_defense) * 10\n",
        "  return dano\n",
        "\n",
        "pokemon1 = input(\"Choose your pokemon: \")\n",
        "pokemon2 = input(\"Choose your opponent pokemon: \")\n",
        "\n",
        "pokemon1 = quem_e_esse_pokemon(pokemon1)\n",
        "pokemon2 = quem_e_esse_pokemon(pokemon2)\n",
        "\n",
        "while pokemon1.hp > 0 and pokemon2.hp > 0:\n",
        "  pokemon1_acao = int(input(pokemon1.name + \" use attack or special_attack (1/2): \"))\n",
        "  pokemon2_acao = int(input(pokemon2.name + \" use attack or special_attack (1/2): \"))\n",
        "\n",
        "  if pokemon1.speed > pokemon2.speed:\n",
        "    pokemon2.hp -= pokemon_acao(pokemon1_acao, 1)\n",
        "    if pokemon2.hp > 0:\n",
        "      pokemon1.hp -= pokemon_acao(pokemon2_acao, 2)\n",
        "    print(\"{}'s hp: {:.2f}, {}'s hp: {:.2f}\".format(pokemon1.name, pokemon1.hp, pokemon2.name, pokemon2.hp))\n",
        "  else:\n",
        "    pokemon1.hp -= pokemon_acao(pokemon2_acao, 2)\n",
        "    if pokemon1.hp > 0:\n",
        "      pokemon2.hp -= pokemon_acao(pokemon1_acao, 1)\n",
        "    print(\"{}'s hp: {:.2f}, {}'s hp: {:.2f}\".format(pokemon1.name, pokemon1.hp, pokemon2.name, pokemon2.hp))\n",
        "\n",
        "if pokemon1.hp > pokemon2.hp:\n",
        "  print(pokemon1.name + \" win\")\n",
        "else:\n",
        "  print(pokemon2.name + \" win\")"
      ],
      "execution_count": 58,
      "outputs": [
        {
          "output_type": "stream",
          "text": [
            "Choose your pokemon: mew\n",
            "Choose your opponent pokemon: mewtwo\n",
            "mew use attack or special_attack (1/2): 1\n",
            "mewtwo use attack or special_attack (1/2): 1\n",
            "mew's hp: 78.00, mewtwo's hp: 83.78\n",
            "mew use attack or special_attack (1/2): 2\n",
            "mewtwo use attack or special_attack (1/2): 2\n",
            "mew's hp: 47.20, mewtwo's hp: 61.56\n",
            "mew use attack or special_attack (1/2): 1\n",
            "mewtwo use attack or special_attack (1/2): 2\n",
            "mew's hp: 16.40, mewtwo's hp: 39.33\n",
            "mew use attack or special_attack (1/2): 2\n",
            "mewtwo use attack or special_attack (1/2): 1\n",
            "mew's hp: -5.60, mewtwo's hp: 39.33\n",
            "mewtwo win\n"
          ],
          "name": "stdout"
        }
      ]
    }
  ]
}